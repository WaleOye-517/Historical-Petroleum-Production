{
  "cells": [
    {
      "cell_type": "code",
      "source": [
        "!pip install -U statsmodels"
      ],
      "metadata": {
        "id": "Wt2hQLRYgF5g",
        "colab": {
          "base_uri": "https://localhost:8080/"
        },
        "outputId": "e77cd422-9e41-498c-aaed-baa0c71a4a6d"
      },
      "id": "Wt2hQLRYgF5g",
      "execution_count": null,
      "outputs": [
        {
          "output_type": "stream",
          "name": "stdout",
          "text": [
            "Looking in indexes: https://pypi.org/simple, https://us-python.pkg.dev/colab-wheels/public/simple/\n",
            "Requirement already satisfied: statsmodels in /usr/local/lib/python3.7/dist-packages (0.12.2)\n",
            "Collecting statsmodels\n",
            "  Downloading statsmodels-0.13.2-cp37-cp37m-manylinux_2_17_x86_64.manylinux2014_x86_64.whl (9.8 MB)\n",
            "\u001b[K     |████████████████████████████████| 9.8 MB 5.4 MB/s \n",
            "\u001b[?25hRequirement already satisfied: pandas>=0.25 in /usr/local/lib/python3.7/dist-packages (from statsmodels) (1.3.5)\n",
            "Requirement already satisfied: numpy>=1.17 in /usr/local/lib/python3.7/dist-packages (from statsmodels) (1.21.6)\n",
            "Requirement already satisfied: packaging>=21.3 in /usr/local/lib/python3.7/dist-packages (from statsmodels) (21.3)\n",
            "Requirement already satisfied: patsy>=0.5.2 in /usr/local/lib/python3.7/dist-packages (from statsmodels) (0.5.2)\n",
            "Requirement already satisfied: scipy>=1.3 in /usr/local/lib/python3.7/dist-packages (from statsmodels) (1.7.3)\n",
            "Requirement already satisfied: pyparsing!=3.0.5,>=2.0.2 in /usr/local/lib/python3.7/dist-packages (from packaging>=21.3->statsmodels) (3.0.9)\n",
            "Requirement already satisfied: python-dateutil>=2.7.3 in /usr/local/lib/python3.7/dist-packages (from pandas>=0.25->statsmodels) (2.8.2)\n",
            "Requirement already satisfied: pytz>=2017.3 in /usr/local/lib/python3.7/dist-packages (from pandas>=0.25->statsmodels) (2022.2.1)\n",
            "Requirement already satisfied: six in /usr/local/lib/python3.7/dist-packages (from patsy>=0.5.2->statsmodels) (1.15.0)\n",
            "Installing collected packages: statsmodels\n",
            "  Attempting uninstall: statsmodels\n",
            "    Found existing installation: statsmodels 0.12.2\n",
            "    Uninstalling statsmodels-0.12.2:\n",
            "      Successfully uninstalled statsmodels-0.12.2\n",
            "Successfully installed statsmodels-0.13.2\n"
          ]
        }
      ]
    },
    {
      "cell_type": "code",
      "execution_count": null,
      "id": "6c2780e3",
      "metadata": {
        "id": "6c2780e3"
      },
      "outputs": [],
      "source": [
        "import pandas as pd\n",
        "import numpy as np\n",
        "\n",
        "from sklearn.model_selection import train_test_split\n",
        "from sklearn.linear_model import Lars\n",
        "import plotly.express as px\n",
        "import datetime as dt\n",
        "from sklearn.metrics import mean_absolute_error\n",
        "from xgboost import XGBRegressor\n",
        "from statsmodels.tsa.deterministic import CalendarFourier, DeterministicProcess\n",
        "from sklearn.linear_model import LinearRegression\n",
        "import matplotlib.pyplot as plt\n",
        "\n",
        "from scipy.stats import boxcox\n",
        "from statsmodels.tsa.ar_model import AutoReg\n",
        "\n",
        "import warnings\n",
        "warnings.filterwarnings(\"ignore\")"
      ]
    },
    {
      "cell_type": "code",
      "source": [
        "from google.colab import drive\n",
        "drive.mount('/content/drive', force_remount=True)"
      ],
      "metadata": {
        "id": "wdmRQIPbzTp3",
        "colab": {
          "base_uri": "https://localhost:8080/"
        },
        "outputId": "b5b59264-cbb6-4851-96fb-cc379d44841e"
      },
      "id": "wdmRQIPbzTp3",
      "execution_count": null,
      "outputs": [
        {
          "output_type": "stream",
          "name": "stdout",
          "text": [
            "Mounted at /content/drive\n"
          ]
        }
      ]
    },
    {
      "cell_type": "code",
      "execution_count": null,
      "id": "6a56115c",
      "metadata": {
        "id": "6a56115c"
      },
      "outputs": [],
      "source": [
        "#data = pd.read_csv('drive/MyDrive/TechPet/Project 1/data_cleaned.csv')\n",
        "data = pd.read_csv('drive/MyDrive/Tech Pet/Data/data_cleaned.csv')\n",
        "data_1 = data[['Date', 'Gas']]"
      ]
    },
    {
      "cell_type": "code",
      "execution_count": null,
      "id": "7a3ab480",
      "metadata": {
        "id": "7a3ab480"
      },
      "outputs": [],
      "source": [
        "data_1['Date'] = pd.to_datetime(data_1['Date'])"
      ]
    },
    {
      "cell_type": "code",
      "execution_count": null,
      "id": "7cef569e",
      "metadata": {
        "id": "7cef569e"
      },
      "outputs": [],
      "source": [
        "# resample dataframe monthly\n",
        "data_resampled = (data_1.set_index('Date')).resample('M', convention = 'end').mean().bfill(axis = 0)\n",
        "\n",
        "# create Gas series\n",
        "Gas_data = pd.DataFrame(data_resampled['Gas'], index = data_resampled.index)"
      ]
    },
    {
      "cell_type": "code",
      "source": [
        "def plot_periodogram(ts, detrend='linear', ax=None):\n",
        "    from scipy.signal import periodogram\n",
        "    fs = pd.Timedelta(\"1Y\") / pd.Timedelta(\"1D\")\n",
        "    freqencies, spectrum = periodogram(\n",
        "        ts,\n",
        "        fs=fs,\n",
        "        detrend=detrend,\n",
        "        window=\"boxcar\",\n",
        "        scaling='spectrum',\n",
        "    )\n",
        "    if ax is None:\n",
        "        _, ax = plt.subplots()\n",
        "    ax.step(freqencies, spectrum, color=\"purple\")\n",
        "    ax.set_xscale(\"log\")\n",
        "    ax.set_xticks([1, 2, 4, 6, 12, 26, 52, 104])\n",
        "    ax.set_xticklabels(\n",
        "        [\n",
        "            \"Annual (1)\",\n",
        "            \"Semiannual (2)\",\n",
        "            \"Quarterly (4)\",\n",
        "            \"Bimonthly (6)\",\n",
        "            \"Monthly (12)\",\n",
        "            \"Biweekly (26)\",\n",
        "            \"Weekly (52)\",\n",
        "            \"Semiweekly (104)\",\n",
        "        ],\n",
        "        rotation=30,\n",
        "    )\n",
        "    ax.ticklabel_format(axis=\"y\", style=\"sci\", scilimits=(0, 0))\n",
        "    ax.set_ylabel(\"Variance\")\n",
        "    ax.set_title(\"Periodogram\")\n",
        "    return ax"
      ],
      "metadata": {
        "id": "PViWM9-JlBT2"
      },
      "id": "PViWM9-JlBT2",
      "execution_count": null,
      "outputs": []
    },
    {
      "cell_type": "code",
      "source": [
        "plot_periodogram(Gas_data.Gas)"
      ],
      "metadata": {
        "colab": {
          "base_uri": "https://localhost:8080/",
          "height": 343
        },
        "id": "TRDeLcaflU7g",
        "outputId": "0b429840-af47-4164-9c93-c98986fb6ad3"
      },
      "id": "TRDeLcaflU7g",
      "execution_count": null,
      "outputs": [
        {
          "output_type": "execute_result",
          "data": {
            "text/plain": [
              "<matplotlib.axes._subplots.AxesSubplot at 0x7f439e2be610>"
            ]
          },
          "metadata": {},
          "execution_count": 39
        },
        {
          "output_type": "display_data",
          "data": {
            "text/plain": [
              "<Figure size 432x288 with 1 Axes>"
            ],
            "image/png": "[encoded data removed]"
          },
          "metadata": {
            "needs_background": "light"
          }
        }
      ]
    },
    {
      "cell_type": "code",
      "execution_count": null,
      "id": "16a06f40",
      "metadata": {
        "id": "16a06f40"
      },
      "outputs": [],
      "source": [
        "fourier = CalendarFourier(freq = \"M\", order = 6)\n",
        "\n",
        "dp = DeterministicProcess(\n",
        "    index = Gas_data.index,\n",
        "    drop = True,\n",
        "    seasonal = True,\n",
        "    additional_terms = [fourier] \n",
        ")\n",
        "\n",
        "Gas_data_1 = dp.in_sample()"
      ]
    },
    {
      "cell_type": "code",
      "execution_count": null,
      "id": "69c372c9",
      "metadata": {
        "id": "69c372c9"
      },
      "outputs": [],
      "source": [
        "Gas_data_1['Gas'] = Gas_data['Gas']"
      ]
    },
    {
      "cell_type": "code",
      "execution_count": null,
      "id": "92c209df",
      "metadata": {
        "id": "92c209df"
      },
      "outputs": [],
      "source": [
        "def lag_features(data, column, no):\n",
        "    for i in range(no):\n",
        "        data['Lag' + str(i + 1)] = data[column].shift(i + 1)\n",
        "    return data"
      ]
    },
    {
      "cell_type": "code",
      "execution_count": null,
      "id": "aaa26eda",
      "metadata": {
        "id": "aaa26eda"
      },
      "outputs": [],
      "source": [
        "Gas_data_1 = lag_features(Gas_data_1, 'Gas', 20)"
      ]
    },
    {
      "cell_type": "code",
      "execution_count": null,
      "id": "ebec3b02",
      "metadata": {
        "id": "ebec3b02",
        "outputId": "b306bae0-ebda-4b40-941d-c02d2a253b0a",
        "colab": {
          "base_uri": "https://localhost:8080/",
          "height": 417
        }
      },
      "outputs": [
        {
          "output_type": "execute_result",
          "data": {
            "text/plain": [
              "            s(1,12)  s(2,12)  s(3,12)  s(4,12)  s(5,12)  s(7,12)  s(8,12)  \\\n",
              "Date                                                                        \n",
              "1978-07-31      1.0      0.0      0.0      0.0      0.0      0.0      0.0   \n",
              "1978-08-31      0.0      1.0      0.0      0.0      0.0      0.0      0.0   \n",
              "1978-09-30      0.0      0.0      1.0      0.0      0.0      0.0      0.0   \n",
              "1978-10-31      0.0      0.0      0.0      1.0      0.0      0.0      0.0   \n",
              "1978-11-30      0.0      0.0      0.0      0.0      1.0      0.0      0.0   \n",
              "\n",
              "            s(9,12)  s(10,12)  s(11,12)  ...  Lag11  Lag12  Lag13  Lag14  \\\n",
              "Date                                     ...                               \n",
              "1978-07-31      0.0       0.0       0.0  ...    NaN    NaN    NaN    NaN   \n",
              "1978-08-31      0.0       0.0       0.0  ...    NaN    NaN    NaN    NaN   \n",
              "1978-09-30      0.0       0.0       0.0  ...    NaN    NaN    NaN    NaN   \n",
              "1978-10-31      0.0       0.0       0.0  ...    NaN    NaN    NaN    NaN   \n",
              "1978-11-30      0.0       0.0       0.0  ...    NaN    NaN    NaN    NaN   \n",
              "\n",
              "            Lag15  Lag16  Lag17  Lag18  Lag19  Lag20  \n",
              "Date                                                  \n",
              "1978-07-31    NaN    NaN    NaN    NaN    NaN    NaN  \n",
              "1978-08-31    NaN    NaN    NaN    NaN    NaN    NaN  \n",
              "1978-09-30    NaN    NaN    NaN    NaN    NaN    NaN  \n",
              "1978-10-31    NaN    NaN    NaN    NaN    NaN    NaN  \n",
              "1978-11-30    NaN    NaN    NaN    NaN    NaN    NaN  \n",
              "\n",
              "[5 rows x 34 columns]"
            ],
            "text/html": [
              "\n",
              "  <div id=\"df-c31051ae-735b-4a4d-ae20-018e2b82aa99\">\n",
              "    <div class=\"colab-df-container\">\n",
              "      <div>\n",
              "<style scoped>\n",
              "    .dataframe tbody tr th:only-of-type {\n",
              "        vertical-align: middle;\n",
              "    }\n",
              "\n",
              "    .dataframe tbody tr th {\n",
              "        vertical-align: top;\n",
              "    }\n",
              "\n",
              "    .dataframe thead th {\n",
              "        text-align: right;\n",
              "    }\n",
              "</style>\n",
              "<table border=\"1\" class=\"dataframe\">\n",
              "  <thead>\n",
              "    <tr style=\"text-align: right;\">\n",
              "      <th></th>\n",
              "      <th>s(1,12)</th>\n",
              "      <th>s(2,12)</th>\n",
              "      <th>s(3,12)</th>\n",
              "      <th>s(4,12)</th>\n",
              "      <th>s(5,12)</th>\n",
              "      <th>s(7,12)</th>\n",
              "      <th>s(8,12)</th>\n",
              "      <th>s(9,12)</th>\n",
              "      <th>s(10,12)</th>\n",
              "      <th>s(11,12)</th>\n",
              "      <th>...</th>\n",
              "      <th>Lag11</th>\n",
              "      <th>Lag12</th>\n",
              "      <th>Lag13</th>\n",
              "      <th>Lag14</th>\n",
              "      <th>Lag15</th>\n",
              "      <th>Lag16</th>\n",
              "      <th>Lag17</th>\n",
              "      <th>Lag18</th>\n",
              "      <th>Lag19</th>\n",
              "      <th>Lag20</th>\n",
              "    </tr>\n",
              "    <tr>\n",
              "      <th>Date</th>\n",
              "      <th></th>\n",
              "      <th></th>\n",
              "      <th></th>\n",
              "      <th></th>\n",
              "      <th></th>\n",
              "      <th></th>\n",
              "      <th></th>\n",
              "      <th></th>\n",
              "      <th></th>\n",
              "      <th></th>\n",
              "      <th></th>\n",
              "      <th></th>\n",
              "      <th></th>\n",
              "      <th></th>\n",
              "      <th></th>\n",
              "      <th></th>\n",
              "      <th></th>\n",
              "      <th></th>\n",
              "      <th></th>\n",
              "      <th></th>\n",
              "      <th></th>\n",
              "    </tr>\n",
              "  </thead>\n",
              "  <tbody>\n",
              "    <tr>\n",
              "      <th>1978-07-31</th>\n",
              "      <td>1.0</td>\n",
              "      <td>0.0</td>\n",
              "      <td>0.0</td>\n",
              "      <td>0.0</td>\n",
              "      <td>0.0</td>\n",
              "      <td>0.0</td>\n",
              "      <td>0.0</td>\n",
              "      <td>0.0</td>\n",
              "      <td>0.0</td>\n",
              "      <td>0.0</td>\n",
              "      <td>...</td>\n",
              "      <td>NaN</td>\n",
              "      <td>NaN</td>\n",
              "      <td>NaN</td>\n",
              "      <td>NaN</td>\n",
              "      <td>NaN</td>\n",
              "      <td>NaN</td>\n",
              "      <td>NaN</td>\n",
              "      <td>NaN</td>\n",
              "      <td>NaN</td>\n",
              "      <td>NaN</td>\n",
              "    </tr>\n",
              "    <tr>\n",
              "      <th>1978-08-31</th>\n",
              "      <td>0.0</td>\n",
              "      <td>1.0</td>\n",
              "      <td>0.0</td>\n",
              "      <td>0.0</td>\n",
              "      <td>0.0</td>\n",
              "      <td>0.0</td>\n",
              "      <td>0.0</td>\n",
              "      <td>0.0</td>\n",
              "      <td>0.0</td>\n",
              "      <td>0.0</td>\n",
              "      <td>...</td>\n",
              "      <td>NaN</td>\n",
              "      <td>NaN</td>\n",
              "      <td>NaN</td>\n",
              "      <td>NaN</td>\n",
              "      <td>NaN</td>\n",
              "      <td>NaN</td>\n",
              "      <td>NaN</td>\n",
              "      <td>NaN</td>\n",
              "      <td>NaN</td>\n",
              "      <td>NaN</td>\n",
              "    </tr>\n",
              "    <tr>\n",
              "      <th>1978-09-30</th>\n",
              "      <td>0.0</td>\n",
              "      <td>0.0</td>\n",
              "      <td>1.0</td>\n",
              "      <td>0.0</td>\n",
              "      <td>0.0</td>\n",
              "      <td>0.0</td>\n",
              "      <td>0.0</td>\n",
              "      <td>0.0</td>\n",
              "      <td>0.0</td>\n",
              "      <td>0.0</td>\n",
              "      <td>...</td>\n",
              "      <td>NaN</td>\n",
              "      <td>NaN</td>\n",
              "      <td>NaN</td>\n",
              "      <td>NaN</td>\n",
              "      <td>NaN</td>\n",
              "      <td>NaN</td>\n",
              "      <td>NaN</td>\n",
              "      <td>NaN</td>\n",
              "      <td>NaN</td>\n",
              "      <td>NaN</td>\n",
              "    </tr>\n",
              "    <tr>\n",
              "      <th>1978-10-31</th>\n",
              "      <td>0.0</td>\n",
              "      <td>0.0</td>\n",
              "      <td>0.0</td>\n",
              "      <td>1.0</td>\n",
              "      <td>0.0</td>\n",
              "      <td>0.0</td>\n",
              "      <td>0.0</td>\n",
              "      <td>0.0</td>\n",
              "      <td>0.0</td>\n",
              "      <td>0.0</td>\n",
              "      <td>...</td>\n",
              "      <td>NaN</td>\n",
              "      <td>NaN</td>\n",
              "      <td>NaN</td>\n",
              "      <td>NaN</td>\n",
              "      <td>NaN</td>\n",
              "      <td>NaN</td>\n",
              "      <td>NaN</td>\n",
              "      <td>NaN</td>\n",
              "      <td>NaN</td>\n",
              "      <td>NaN</td>\n",
              "    </tr>\n",
              "    <tr>\n",
              "      <th>1978-11-30</th>\n",
              "      <td>0.0</td>\n",
              "      <td>0.0</td>\n",
              "      <td>0.0</td>\n",
              "      <td>0.0</td>\n",
              "      <td>1.0</td>\n",
              "      <td>0.0</td>\n",
              "      <td>0.0</td>\n",
              "      <td>0.0</td>\n",
              "      <td>0.0</td>\n",
              "      <td>0.0</td>\n",
              "      <td>...</td>\n",
              "      <td>NaN</td>\n",
              "      <td>NaN</td>\n",
              "      <td>NaN</td>\n",
              "      <td>NaN</td>\n",
              "      <td>NaN</td>\n",
              "      <td>NaN</td>\n",
              "      <td>NaN</td>\n",
              "      <td>NaN</td>\n",
              "      <td>NaN</td>\n",
              "      <td>NaN</td>\n",
              "    </tr>\n",
              "  </tbody>\n",
              "</table>\n",
              "<p>5 rows × 34 columns</p>\n",
              "</div>\n",
              "      <button class=\"colab-df-convert\" onclick=\"convertToInteractive('df-c31051ae-735b-4a4d-ae20-018e2b82aa99')\"\n",
              "              title=\"Convert this dataframe to an interactive table.\"\n",
              "              style=\"display:none;\">\n",
              "        \n",
              "  <svg xmlns=\"http://www.w3.org/2000/svg\" height=\"24px\"viewBox=\"0 0 24 24\"\n",
              "       width=\"24px\">\n",
              "    <path d=\"M0 0h24v24H0V0z\" fill=\"none\"/>\n",
              "    <path d=\"M18.56 5.44l.94 2.06.94-2.06 2.06-.94-2.06-.94-.94-2.06-.94 2.06-2.06.94zm-11 1L8.5 8.5l.94-2.06 2.06-.94-2.06-.94L8.5 2.5l-.94 2.06-2.06.94zm10 10l.94 2.06.94-2.06 2.06-.94-2.06-.94-.94-2.06-.94 2.06-2.06.94z\"/><path d=\"M17.41 7.96l-1.37-1.37c-.4-.4-.92-.59-1.43-.59-.52 0-1.04.2-1.43.59L10.3 9.45l-7.72 7.72c-.78.78-.78 2.05 0 2.83L4 21.41c.39.39.9.59 1.41.59.51 0 1.02-.2 1.41-.59l7.78-7.78 2.81-2.81c.8-.78.8-2.07 0-2.86zM5.41 20L4 18.59l7.72-7.72 1.47 1.35L5.41 20z\"/>\n",
              "  </svg>\n",
              "      </button>\n",
              "      \n",
              "  <style>\n",
              "    .colab-df-container {\n",
              "      display:flex;\n",
              "      flex-wrap:wrap;\n",
              "      gap: 12px;\n",
              "    }\n",
              "\n",
              "    .colab-df-convert {\n",
              "      background-color: #E8F0FE;\n",
              "      border: none;\n",
              "      border-radius: 50%;\n",
              "      cursor: pointer;\n",
              "      display: none;\n",
              "      fill: #1967D2;\n",
              "      height: 32px;\n",
              "      padding: 0 0 0 0;\n",
              "      width: 32px;\n",
              "    }\n",
              "\n",
              "    .colab-df-convert:hover {\n",
              "      background-color: #E2EBFA;\n",
              "      box-shadow: 0px 1px 2px rgba(60, 64, 67, 0.3), 0px 1px 3px 1px rgba(60, 64, 67, 0.15);\n",
              "      fill: #174EA6;\n",
              "    }\n",
              "\n",
              "    [theme=dark] .colab-df-convert {\n",
              "      background-color: #3B4455;\n",
              "      fill: #D2E3FC;\n",
              "    }\n",
              "\n",
              "    [theme=dark] .colab-df-convert:hover {\n",
              "      background-color: #434B5C;\n",
              "      box-shadow: 0px 1px 3px 1px rgba(0, 0, 0, 0.15);\n",
              "      filter: drop-shadow(0px 1px 2px rgba(0, 0, 0, 0.3));\n",
              "      fill: #FFFFFF;\n",
              "    }\n",
              "  </style>\n",
              "\n",
              "      <script>\n",
              "        const buttonEl =\n",
              "          document.querySelector('#df-c31051ae-735b-4a4d-ae20-018e2b82aa99 button.colab-df-convert');\n",
              "        buttonEl.style.display =\n",
              "          google.colab.kernel.accessAllowed ? 'block' : 'none';\n",
              "\n",
              "        async function convertToInteractive(key) {\n",
              "          const element = document.querySelector('#df-c31051ae-735b-4a4d-ae20-018e2b82aa99');\n",
              "          const dataTable =\n",
              "            await google.colab.kernel.invokeFunction('convertToInteractive',\n",
              "                                                     [key], {});\n",
              "          if (!dataTable) return;\n",
              "\n",
              "          const docLinkHtml = 'Like what you see? Visit the ' +\n",
              "            '<a target=\"_blank\" href=https://colab.research.google.com/notebooks/data_table.ipynb>data table notebook</a>'\n",
              "            + ' to learn more about interactive tables.';\n",
              "          element.innerHTML = '';\n",
              "          dataTable['output_type'] = 'display_data';\n",
              "          await google.colab.output.renderOutput(dataTable, element);\n",
              "          const docLink = document.createElement('div');\n",
              "          docLink.innerHTML = docLinkHtml;\n",
              "          element.appendChild(docLink);\n",
              "        }\n",
              "      </script>\n",
              "    </div>\n",
              "  </div>\n",
              "  "
            ]
          },
          "metadata": {},
          "execution_count": 44
        }
      ],
      "source": [
        "Gas_data_1.head()"
      ]
    },
    {
      "cell_type": "code",
      "execution_count": null,
      "id": "d5231107",
      "metadata": {
        "id": "d5231107"
      },
      "outputs": [],
      "source": [
        "Gas_data_2 = Gas_data_1.dropna()"
      ]
    },
    {
      "cell_type": "code",
      "execution_count": null,
      "id": "2c443a0a",
      "metadata": {
        "id": "2c443a0a"
      },
      "outputs": [],
      "source": [
        "y = Gas_data_2['Gas']\n",
        "X = Gas_data_2.drop('Gas', axis = 1)"
      ]
    },
    {
      "cell_type": "code",
      "execution_count": null,
      "id": "1204410b",
      "metadata": {
        "id": "1204410b",
        "outputId": "99e6498a-d9ee-494e-8d0a-c97540cea22e",
        "colab": {
          "base_uri": "https://localhost:8080/"
        }
      },
      "outputs": [
        {
          "output_type": "stream",
          "name": "stdout",
          "text": [
            "X_train shape: (396, 33)\n",
            "y_train shape: (396,)\n",
            "X_test shape: (100, 33)\n",
            "y_test shape: (100,)\n"
          ]
        }
      ],
      "source": [
        "X_train, X_test, y_train, y_test = train_test_split(X, y, test_size = 0.2, random_state = 42)\n",
        "print(\"X_train shape:\", X_train.shape)\n",
        "print(\"y_train shape:\", y_train.shape)\n",
        "print(\"X_test shape:\", X_test.shape)\n",
        "print(\"y_test shape:\", y_test.shape)"
      ]
    },
    {
      "cell_type": "code",
      "execution_count": null,
      "id": "71e43720",
      "metadata": {
        "id": "71e43720"
      },
      "outputs": [],
      "source": [
        "linear_model = LinearRegression()"
      ]
    },
    {
      "cell_type": "code",
      "execution_count": null,
      "id": "e354982c",
      "metadata": {
        "id": "e354982c",
        "outputId": "83950cc3-22c5-4c52-8ec3-bc124218f25d",
        "colab": {
          "base_uri": "https://localhost:8080/"
        }
      },
      "outputs": [
        {
          "output_type": "execute_result",
          "data": {
            "text/plain": [
              "LinearRegression()"
            ]
          },
          "metadata": {},
          "execution_count": 14
        }
      ],
      "source": [
        "linear_model.fit(X_train, y_train)"
      ]
    },
    {
      "cell_type": "code",
      "execution_count": null,
      "id": "034bd2b4",
      "metadata": {
        "id": "034bd2b4",
        "outputId": "231ead9c-5d25-4ff3-8a73-0bf385e1ab5e",
        "colab": {
          "base_uri": "https://localhost:8080/"
        }
      },
      "outputs": [
        {
          "output_type": "execute_result",
          "data": {
            "text/plain": [
              "0.7193298882259411"
            ]
          },
          "metadata": {},
          "execution_count": 50
        }
      ],
      "source": [
        "linear_model.score(X_train, y_train)"
      ]
    },
    {
      "cell_type": "code",
      "execution_count": null,
      "id": "b4d4ba29",
      "metadata": {
        "id": "b4d4ba29",
        "outputId": "7bd249da-3dfe-41cf-9ca8-b35e9a0e174c",
        "colab": {
          "base_uri": "https://localhost:8080/"
        }
      },
      "outputs": [
        {
          "output_type": "execute_result",
          "data": {
            "text/plain": [
              "0.8069321698547196"
            ]
          },
          "metadata": {},
          "execution_count": 51
        }
      ],
      "source": [
        "linear_model.score(X_test, y_test)"
      ]
    },
    {
      "cell_type": "code",
      "execution_count": null,
      "id": "fcfab4d1",
      "metadata": {
        "id": "fcfab4d1"
      },
      "outputs": [],
      "source": [
        "test_pred = linear_model.predict(X_test)\n",
        "error = mean_absolute_error(y_test, test_pred)"
      ]
    },
    {
      "cell_type": "code",
      "execution_count": null,
      "id": "9ef05a0e",
      "metadata": {
        "id": "9ef05a0e",
        "outputId": "bc7d25a4-6a53-4907-cd4f-387ca8964418",
        "colab": {
          "base_uri": "https://localhost:8080/"
        }
      },
      "outputs": [
        {
          "output_type": "stream",
          "name": "stdout",
          "text": [
            "157.22471813696026\n"
          ]
        }
      ],
      "source": [
        "print(error)"
      ]
    },
    {
      "cell_type": "code",
      "execution_count": null,
      "id": "4053351e",
      "metadata": {
        "id": "4053351e"
      },
      "outputs": [],
      "source": []
    },
    {
      "cell_type": "code",
      "execution_count": null,
      "id": "ef8d84b0",
      "metadata": {
        "id": "ef8d84b0"
      },
      "outputs": [],
      "source": []
    },
    {
      "cell_type": "markdown",
      "id": "4c5d0c06",
      "metadata": {
        "id": "4c5d0c06"
      },
      "source": [
        "### XGB Model"
      ]
    },
    {
      "cell_type": "code",
      "execution_count": null,
      "id": "d0908d50",
      "metadata": {
        "id": "d0908d50"
      },
      "outputs": [],
      "source": [
        "data_1 = Gas_data_1.copy()"
      ]
    },
    {
      "cell_type": "code",
      "execution_count": null,
      "id": "ea27cf7e",
      "metadata": {
        "id": "ea27cf7e",
        "outputId": "5cb5078e-8ed9-4005-f9a6-4cc947570ba5",
        "colab": {
          "base_uri": "https://localhost:8080/",
          "height": 271
        }
      },
      "outputs": [
        {
          "output_type": "execute_result",
          "data": {
            "text/plain": [
              "            s(2,12)  s(3,12)  s(4,12)  s(5,12)  s(6,12)  s(7,12)  s(8,12)  \\\n",
              "Date                                                                        \n",
              "1978-07-31      0.0      0.0      0.0      0.0      0.0      0.0      0.0   \n",
              "1978-08-31      1.0      0.0      0.0      0.0      0.0      0.0      0.0   \n",
              "\n",
              "            s(9,12)  s(10,12)  s(11,12)  ...  Lag11  Lag12  Lag13  Lag14  \\\n",
              "Date                                     ...                               \n",
              "1978-07-31      0.0       0.0       0.0  ...    NaN    NaN    NaN    NaN   \n",
              "1978-08-31      0.0       0.0       0.0  ...    NaN    NaN    NaN    NaN   \n",
              "\n",
              "            Lag15  Lag16  Lag17  Lag18  Lag19  Lag20  \n",
              "Date                                                  \n",
              "1978-07-31    NaN    NaN    NaN    NaN    NaN    NaN  \n",
              "1978-08-31    NaN    NaN    NaN    NaN    NaN    NaN  \n",
              "\n",
              "[2 rows x 34 columns]"
            ],
            "text/html": [
              "\n",
              "  <div id=\"df-746abf72-0e89-4be4-9b71-52290056f655\">\n",
              "    <div class=\"colab-df-container\">\n",
              "      <div>\n",
              "<style scoped>\n",
              "    .dataframe tbody tr th:only-of-type {\n",
              "        vertical-align: middle;\n",
              "    }\n",
              "\n",
              "    .dataframe tbody tr th {\n",
              "        vertical-align: top;\n",
              "    }\n",
              "\n",
              "    .dataframe thead th {\n",
              "        text-align: right;\n",
              "    }\n",
              "</style>\n",
              "<table border=\"1\" class=\"dataframe\">\n",
              "  <thead>\n",
              "    <tr style=\"text-align: right;\">\n",
              "      <th></th>\n",
              "      <th>s(2,12)</th>\n",
              "      <th>s(3,12)</th>\n",
              "      <th>s(4,12)</th>\n",
              "      <th>s(5,12)</th>\n",
              "      <th>s(6,12)</th>\n",
              "      <th>s(7,12)</th>\n",
              "      <th>s(8,12)</th>\n",
              "      <th>s(9,12)</th>\n",
              "      <th>s(10,12)</th>\n",
              "      <th>s(11,12)</th>\n",
              "      <th>...</th>\n",
              "      <th>Lag11</th>\n",
              "      <th>Lag12</th>\n",
              "      <th>Lag13</th>\n",
              "      <th>Lag14</th>\n",
              "      <th>Lag15</th>\n",
              "      <th>Lag16</th>\n",
              "      <th>Lag17</th>\n",
              "      <th>Lag18</th>\n",
              "      <th>Lag19</th>\n",
              "      <th>Lag20</th>\n",
              "    </tr>\n",
              "    <tr>\n",
              "      <th>Date</th>\n",
              "      <th></th>\n",
              "      <th></th>\n",
              "      <th></th>\n",
              "      <th></th>\n",
              "      <th></th>\n",
              "      <th></th>\n",
              "      <th></th>\n",
              "      <th></th>\n",
              "      <th></th>\n",
              "      <th></th>\n",
              "      <th></th>\n",
              "      <th></th>\n",
              "      <th></th>\n",
              "      <th></th>\n",
              "      <th></th>\n",
              "      <th></th>\n",
              "      <th></th>\n",
              "      <th></th>\n",
              "      <th></th>\n",
              "      <th></th>\n",
              "      <th></th>\n",
              "    </tr>\n",
              "  </thead>\n",
              "  <tbody>\n",
              "    <tr>\n",
              "      <th>1978-07-31</th>\n",
              "      <td>0.0</td>\n",
              "      <td>0.0</td>\n",
              "      <td>0.0</td>\n",
              "      <td>0.0</td>\n",
              "      <td>0.0</td>\n",
              "      <td>0.0</td>\n",
              "      <td>0.0</td>\n",
              "      <td>0.0</td>\n",
              "      <td>0.0</td>\n",
              "      <td>0.0</td>\n",
              "      <td>...</td>\n",
              "      <td>NaN</td>\n",
              "      <td>NaN</td>\n",
              "      <td>NaN</td>\n",
              "      <td>NaN</td>\n",
              "      <td>NaN</td>\n",
              "      <td>NaN</td>\n",
              "      <td>NaN</td>\n",
              "      <td>NaN</td>\n",
              "      <td>NaN</td>\n",
              "      <td>NaN</td>\n",
              "    </tr>\n",
              "    <tr>\n",
              "      <th>1978-08-31</th>\n",
              "      <td>1.0</td>\n",
              "      <td>0.0</td>\n",
              "      <td>0.0</td>\n",
              "      <td>0.0</td>\n",
              "      <td>0.0</td>\n",
              "      <td>0.0</td>\n",
              "      <td>0.0</td>\n",
              "      <td>0.0</td>\n",
              "      <td>0.0</td>\n",
              "      <td>0.0</td>\n",
              "      <td>...</td>\n",
              "      <td>NaN</td>\n",
              "      <td>NaN</td>\n",
              "      <td>NaN</td>\n",
              "      <td>NaN</td>\n",
              "      <td>NaN</td>\n",
              "      <td>NaN</td>\n",
              "      <td>NaN</td>\n",
              "      <td>NaN</td>\n",
              "      <td>NaN</td>\n",
              "      <td>NaN</td>\n",
              "    </tr>\n",
              "  </tbody>\n",
              "</table>\n",
              "<p>2 rows × 34 columns</p>\n",
              "</div>\n",
              "      <button class=\"colab-df-convert\" onclick=\"convertToInteractive('df-746abf72-0e89-4be4-9b71-52290056f655')\"\n",
              "              title=\"Convert this dataframe to an interactive table.\"\n",
              "              style=\"display:none;\">\n",
              "        \n",
              "  <svg xmlns=\"http://www.w3.org/2000/svg\" height=\"24px\"viewBox=\"0 0 24 24\"\n",
              "       width=\"24px\">\n",
              "    <path d=\"M0 0h24v24H0V0z\" fill=\"none\"/>\n",
              "    <path d=\"M18.56 5.44l.94 2.06.94-2.06 2.06-.94-2.06-.94-.94-2.06-.94 2.06-2.06.94zm-11 1L8.5 8.5l.94-2.06 2.06-.94-2.06-.94L8.5 2.5l-.94 2.06-2.06.94zm10 10l.94 2.06.94-2.06 2.06-.94-2.06-.94-.94-2.06-.94 2.06-2.06.94z\"/><path d=\"M17.41 7.96l-1.37-1.37c-.4-.4-.92-.59-1.43-.59-.52 0-1.04.2-1.43.59L10.3 9.45l-7.72 7.72c-.78.78-.78 2.05 0 2.83L4 21.41c.39.39.9.59 1.41.59.51 0 1.02-.2 1.41-.59l7.78-7.78 2.81-2.81c.8-.78.8-2.07 0-2.86zM5.41 20L4 18.59l7.72-7.72 1.47 1.35L5.41 20z\"/>\n",
              "  </svg>\n",
              "      </button>\n",
              "      \n",
              "  <style>\n",
              "    .colab-df-container {\n",
              "      display:flex;\n",
              "      flex-wrap:wrap;\n",
              "      gap: 12px;\n",
              "    }\n",
              "\n",
              "    .colab-df-convert {\n",
              "      background-color: #E8F0FE;\n",
              "      border: none;\n",
              "      border-radius: 50%;\n",
              "      cursor: pointer;\n",
              "      display: none;\n",
              "      fill: #1967D2;\n",
              "      height: 32px;\n",
              "      padding: 0 0 0 0;\n",
              "      width: 32px;\n",
              "    }\n",
              "\n",
              "    .colab-df-convert:hover {\n",
              "      background-color: #E2EBFA;\n",
              "      box-shadow: 0px 1px 2px rgba(60, 64, 67, 0.3), 0px 1px 3px 1px rgba(60, 64, 67, 0.15);\n",
              "      fill: #174EA6;\n",
              "    }\n",
              "\n",
              "    [theme=dark] .colab-df-convert {\n",
              "      background-color: #3B4455;\n",
              "      fill: #D2E3FC;\n",
              "    }\n",
              "\n",
              "    [theme=dark] .colab-df-convert:hover {\n",
              "      background-color: #434B5C;\n",
              "      box-shadow: 0px 1px 3px 1px rgba(0, 0, 0, 0.15);\n",
              "      filter: drop-shadow(0px 1px 2px rgba(0, 0, 0, 0.3));\n",
              "      fill: #FFFFFF;\n",
              "    }\n",
              "  </style>\n",
              "\n",
              "      <script>\n",
              "        const buttonEl =\n",
              "          document.querySelector('#df-746abf72-0e89-4be4-9b71-52290056f655 button.colab-df-convert');\n",
              "        buttonEl.style.display =\n",
              "          google.colab.kernel.accessAllowed ? 'block' : 'none';\n",
              "\n",
              "        async function convertToInteractive(key) {\n",
              "          const element = document.querySelector('#df-746abf72-0e89-4be4-9b71-52290056f655');\n",
              "          const dataTable =\n",
              "            await google.colab.kernel.invokeFunction('convertToInteractive',\n",
              "                                                     [key], {});\n",
              "          if (!dataTable) return;\n",
              "\n",
              "          const docLinkHtml = 'Like what you see? Visit the ' +\n",
              "            '<a target=\"_blank\" href=https://colab.research.google.com/notebooks/data_table.ipynb>data table notebook</a>'\n",
              "            + ' to learn more about interactive tables.';\n",
              "          element.innerHTML = '';\n",
              "          dataTable['output_type'] = 'display_data';\n",
              "          await google.colab.output.renderOutput(dataTable, element);\n",
              "          const docLink = document.createElement('div');\n",
              "          docLink.innerHTML = docLinkHtml;\n",
              "          element.appendChild(docLink);\n",
              "        }\n",
              "      </script>\n",
              "    </div>\n",
              "  </div>\n",
              "  "
            ]
          },
          "metadata": {},
          "execution_count": 27
        }
      ],
      "source": [
        "data_1.head(2)"
      ]
    },
    {
      "cell_type": "code",
      "execution_count": null,
      "id": "4aaabdd2",
      "metadata": {
        "id": "4aaabdd2"
      },
      "outputs": [],
      "source": [
        "y = data_1['Gas']\n",
        "X = data_1.drop('Gas', axis = 1)"
      ]
    },
    {
      "cell_type": "code",
      "execution_count": null,
      "id": "5200e11b",
      "metadata": {
        "id": "5200e11b",
        "outputId": "3b7dec65-436d-4c4a-eddc-7eeb8227e17d",
        "colab": {
          "base_uri": "https://localhost:8080/"
        }
      },
      "outputs": [
        {
          "output_type": "stream",
          "name": "stdout",
          "text": [
            "X_train shape: (412, 33)\n",
            "y_train shape: (412,)\n",
            "X_test shape: (104, 33)\n",
            "y_test shape: (104,)\n"
          ]
        }
      ],
      "source": [
        "X_train, X_test, y_train, y_test = train_test_split(X, y, test_size = 0.2, random_state = 42)\n",
        "print(\"X_train shape:\", X_train.shape)\n",
        "print(\"y_train shape:\", y_train.shape)\n",
        "print(\"X_test shape:\", X_test.shape)\n",
        "print(\"y_test shape:\", y_test.shape)"
      ]
    },
    {
      "cell_type": "code",
      "execution_count": null,
      "id": "182b0ea4",
      "metadata": {
        "id": "182b0ea4"
      },
      "outputs": [],
      "source": [
        "xgb_model = XGBRegressor()"
      ]
    },
    {
      "cell_type": "code",
      "execution_count": null,
      "id": "632b5637",
      "metadata": {
        "id": "632b5637",
        "outputId": "3b37a96a-fda9-4046-800f-ad96ee502e8d",
        "colab": {
          "base_uri": "https://localhost:8080/"
        }
      },
      "outputs": [
        {
          "output_type": "stream",
          "name": "stdout",
          "text": [
            "[09:14:31] WARNING: /workspace/src/objective/regression_obj.cu:152: reg:linear is now deprecated in favor of reg:squarederror.\n"
          ]
        },
        {
          "output_type": "execute_result",
          "data": {
            "text/plain": [
              "XGBRegressor()"
            ]
          },
          "metadata": {},
          "execution_count": 19
        }
      ],
      "source": [
        "xgb_model.fit(X_train, y_train)"
      ]
    },
    {
      "cell_type": "code",
      "execution_count": null,
      "id": "215c2a2c",
      "metadata": {
        "id": "215c2a2c",
        "outputId": "c95d35f7-457b-4477-c405-227562155667",
        "colab": {
          "base_uri": "https://localhost:8080/"
        }
      },
      "outputs": [
        {
          "output_type": "execute_result",
          "data": {
            "text/plain": [
              "0.9740036763103703"
            ]
          },
          "metadata": {},
          "execution_count": 20
        }
      ],
      "source": [
        "xgb_model.score(X_train, y_train)"
      ]
    },
    {
      "cell_type": "code",
      "execution_count": null,
      "id": "d39e9480",
      "metadata": {
        "id": "d39e9480",
        "outputId": "c2103786-02ed-4711-8b84-a295ea863e55",
        "colab": {
          "base_uri": "https://localhost:8080/"
        }
      },
      "outputs": [
        {
          "output_type": "execute_result",
          "data": {
            "text/plain": [
              "0.6733152299651883"
            ]
          },
          "metadata": {},
          "execution_count": 21
        }
      ],
      "source": [
        "xgb_model.score(X_test, y_test)"
      ]
    },
    {
      "cell_type": "code",
      "execution_count": null,
      "id": "d7a38677",
      "metadata": {
        "id": "d7a38677"
      },
      "outputs": [],
      "source": [
        "test_pred = xgb_model.predict(X_test)\n",
        "error = mean_absolute_error(y_test, test_pred)"
      ]
    },
    {
      "cell_type": "code",
      "execution_count": null,
      "id": "4347df14",
      "metadata": {
        "id": "4347df14",
        "outputId": "fcb9be2d-0c28-404f-af73-215bfa0da392",
        "colab": {
          "base_uri": "https://localhost:8080/"
        }
      },
      "outputs": [
        {
          "output_type": "execute_result",
          "data": {
            "text/plain": [
              "183.23580302100086"
            ]
          },
          "metadata": {},
          "execution_count": 23
        }
      ],
      "source": [
        "error"
      ]
    },
    {
      "cell_type": "code",
      "execution_count": null,
      "id": "549039b3",
      "metadata": {
        "id": "549039b3"
      },
      "outputs": [],
      "source": []
    },
    {
      "cell_type": "code",
      "source": [],
      "metadata": {
        "id": "tf6IA-hZgKBj"
      },
      "id": "tf6IA-hZgKBj",
      "execution_count": null,
      "outputs": []
    },
    {
      "cell_type": "markdown",
      "source": [
        "### AR Model"
      ],
      "metadata": {
        "id": "DJQZUI8IgM4G"
      },
      "id": "DJQZUI8IgM4G"
    },
    {
      "cell_type": "code",
      "source": [
        "transformed_gas, lam = boxcox(Gas_data['Gas'])\n",
        "\n",
        "y = pd.Series(transformed_gas, index = Gas_data.index)\n",
        "\n",
        "cutoff_test = int(len(y) * 0.80)  \n",
        "y_train = y.iloc[:cutoff_test]\n",
        "y_test = y.iloc[cutoff_test:]"
      ],
      "metadata": {
        "id": "VmQovDHRgKFD"
      },
      "id": "VmQovDHRgKFD",
      "execution_count": null,
      "outputs": []
    },
    {
      "cell_type": "code",
      "source": [
        "model = AutoReg(y_train, lags = 59, old_names = False).fit()"
      ],
      "metadata": {
        "id": "fxVS4FDCgKJC"
      },
      "id": "fxVS4FDCgKJC",
      "execution_count": null,
      "outputs": []
    },
    {
      "cell_type": "code",
      "source": [
        "y_pred_test = model.predict(y_test.index.min(), y_test.index.max())   "
      ],
      "metadata": {
        "id": "lYap0ZKmgKMi"
      },
      "id": "lYap0ZKmgKMi",
      "execution_count": null,
      "outputs": []
    },
    {
      "cell_type": "code",
      "source": [
        "y_pred_test = round(np.exp(np.log(lam * y_pred_test + 1) / lam), 1)\n",
        "\n",
        "y_test = round(np.exp(np.log(lam * y_test + 1) / lam), 1)"
      ],
      "metadata": {
        "id": "sidm8064gKP_"
      },
      "id": "sidm8064gKP_",
      "execution_count": null,
      "outputs": []
    },
    {
      "cell_type": "code",
      "source": [
        "print(f\"AutoReg Model Test MAE: {mean_absolute_error(y_test, y_pred_test)}\")"
      ],
      "metadata": {
        "colab": {
          "base_uri": "https://localhost:8080/"
        },
        "id": "Cae8v_NlgKTF",
        "outputId": "bcfb4266-3c2a-4bf3-9882-37bb11000bfa"
      },
      "id": "Cae8v_NlgKTF",
      "execution_count": null,
      "outputs": [
        {
          "output_type": "stream",
          "name": "stdout",
          "text": [
            "AutoReg Model Test MAE: 93.72596153846153\n"
          ]
        }
      ]
    },
    {
      "cell_type": "code",
      "source": [],
      "metadata": {
        "id": "DcbKV6j9gKXm"
      },
      "id": "DcbKV6j9gKXm",
      "execution_count": null,
      "outputs": []
    }
  ],
  "metadata": {
    "kernelspec": {
      "display_name": "Python 3 (ipykernel)",
      "language": "python",
      "name": "python3"
    },
    "language_info": {
      "codemirror_mode": {
        "name": "ipython",
        "version": 3
      },
      "file_extension": ".py",
      "mimetype": "text/x-python",
      "name": "python",
      "nbconvert_exporter": "python",
      "pygments_lexer": "ipython3",
      "version": "3.9.7"
    },
    "colab": {
      "provenance": [],
      "collapsed_sections": []
    }
  },
  "nbformat": 4,
  "nbformat_minor": 5
}