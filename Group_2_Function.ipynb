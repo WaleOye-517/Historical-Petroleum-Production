{
  "nbformat": 4,
  "nbformat_minor": 0,
  "metadata": {
    "colab": {
      "provenance": []
    },
    "kernelspec": {
      "name": "python3",
      "display_name": "Python 3"
    },
    "language_info": {
      "name": "python"
    }
  },
  "cells": [
    {
      "cell_type": "code",
      "source": [
        "#decision tress"
      ],
      "metadata": {
        "id": "MonIyZMIEtOg"
      },
      "execution_count": null,
      "outputs": []
    },
    {
      "cell_type": "code",
      "source": [
        "!pip install pmdarima"
      ],
      "metadata": {
        "colab": {
          "base_uri": "https://localhost:8080/"
        },
        "id": "JjwaCsYZXxo5",
        "outputId": "4c415d9d-27af-48f3-bb7b-cf9e324724a9"
      },
      "execution_count": null,
      "outputs": [
        {
          "output_type": "stream",
          "name": "stdout",
          "text": [
            "Looking in indexes: https://pypi.org/simple, https://us-python.pkg.dev/colab-wheels/public/simple/\n",
            "Collecting pmdarima\n",
            "  Downloading pmdarima-1.8.5-cp37-cp37m-manylinux_2_17_x86_64.manylinux2014_x86_64.manylinux_2_24_x86_64.whl (1.4 MB)\n",
            "\u001b[K     |████████████████████████████████| 1.4 MB 22.3 MB/s \n",
            "\u001b[?25hCollecting statsmodels!=0.12.0,>=0.11\n",
            "  Downloading statsmodels-0.13.2-cp37-cp37m-manylinux_2_17_x86_64.manylinux2014_x86_64.whl (9.8 MB)\n",
            "\u001b[K     |████████████████████████████████| 9.8 MB 47.1 MB/s \n",
            "\u001b[?25hRequirement already satisfied: setuptools!=50.0.0,>=38.6.0 in /usr/local/lib/python3.7/dist-packages (from pmdarima) (57.4.0)\n",
            "Requirement already satisfied: urllib3 in /usr/local/lib/python3.7/dist-packages (from pmdarima) (1.24.3)\n",
            "Requirement already satisfied: scipy>=1.3.2 in /usr/local/lib/python3.7/dist-packages (from pmdarima) (1.7.3)\n",
            "Requirement already satisfied: pandas>=0.19 in /usr/local/lib/python3.7/dist-packages (from pmdarima) (1.3.5)\n",
            "Requirement already satisfied: Cython!=0.29.18,>=0.29 in /usr/local/lib/python3.7/dist-packages (from pmdarima) (0.29.32)\n",
            "Requirement already satisfied: scikit-learn>=0.22 in /usr/local/lib/python3.7/dist-packages (from pmdarima) (1.0.2)\n",
            "Requirement already satisfied: joblib>=0.11 in /usr/local/lib/python3.7/dist-packages (from pmdarima) (1.1.0)\n",
            "Requirement already satisfied: numpy>=1.19.3 in /usr/local/lib/python3.7/dist-packages (from pmdarima) (1.21.6)\n",
            "Requirement already satisfied: python-dateutil>=2.7.3 in /usr/local/lib/python3.7/dist-packages (from pandas>=0.19->pmdarima) (2.8.2)\n",
            "Requirement already satisfied: pytz>=2017.3 in /usr/local/lib/python3.7/dist-packages (from pandas>=0.19->pmdarima) (2022.1)\n",
            "Requirement already satisfied: six>=1.5 in /usr/local/lib/python3.7/dist-packages (from python-dateutil>=2.7.3->pandas>=0.19->pmdarima) (1.15.0)\n",
            "Requirement already satisfied: threadpoolctl>=2.0.0 in /usr/local/lib/python3.7/dist-packages (from scikit-learn>=0.22->pmdarima) (3.1.0)\n",
            "Requirement already satisfied: patsy>=0.5.2 in /usr/local/lib/python3.7/dist-packages (from statsmodels!=0.12.0,>=0.11->pmdarima) (0.5.2)\n",
            "Requirement already satisfied: packaging>=21.3 in /usr/local/lib/python3.7/dist-packages (from statsmodels!=0.12.0,>=0.11->pmdarima) (21.3)\n",
            "Requirement already satisfied: pyparsing!=3.0.5,>=2.0.2 in /usr/local/lib/python3.7/dist-packages (from packaging>=21.3->statsmodels!=0.12.0,>=0.11->pmdarima) (3.0.9)\n",
            "Installing collected packages: statsmodels, pmdarima\n",
            "  Attempting uninstall: statsmodels\n",
            "    Found existing installation: statsmodels 0.10.2\n",
            "    Uninstalling statsmodels-0.10.2:\n",
            "      Successfully uninstalled statsmodels-0.10.2\n",
            "Successfully installed pmdarima-1.8.5 statsmodels-0.13.2\n"
          ]
        }
      ]
    },
    {
      "cell_type": "code",
      "source": [
        "!pip install -U statsmodels"
      ],
      "metadata": {
        "colab": {
          "base_uri": "https://localhost:8080/"
        },
        "id": "W9g6hW1MXzzj",
        "outputId": "3423317c-9ecd-4adf-bc7c-2a900f7a7b0e"
      },
      "execution_count": null,
      "outputs": [
        {
          "output_type": "stream",
          "name": "stdout",
          "text": [
            "Looking in indexes: https://pypi.org/simple, https://us-python.pkg.dev/colab-wheels/public/simple/\n",
            "Requirement already satisfied: statsmodels in /usr/local/lib/python3.7/dist-packages (0.13.2)\n",
            "Requirement already satisfied: numpy>=1.17 in /usr/local/lib/python3.7/dist-packages (from statsmodels) (1.21.6)\n",
            "Requirement already satisfied: packaging>=21.3 in /usr/local/lib/python3.7/dist-packages (from statsmodels) (21.3)\n",
            "Requirement already satisfied: patsy>=0.5.2 in /usr/local/lib/python3.7/dist-packages (from statsmodels) (0.5.2)\n",
            "Requirement already satisfied: scipy>=1.3 in /usr/local/lib/python3.7/dist-packages (from statsmodels) (1.7.3)\n",
            "Requirement already satisfied: pandas>=0.25 in /usr/local/lib/python3.7/dist-packages (from statsmodels) (1.3.5)\n",
            "Requirement already satisfied: pyparsing!=3.0.5,>=2.0.2 in /usr/local/lib/python3.7/dist-packages (from packaging>=21.3->statsmodels) (3.0.9)\n",
            "Requirement already satisfied: pytz>=2017.3 in /usr/local/lib/python3.7/dist-packages (from pandas>=0.25->statsmodels) (2022.1)\n",
            "Requirement already satisfied: python-dateutil>=2.7.3 in /usr/local/lib/python3.7/dist-packages (from pandas>=0.25->statsmodels) (2.8.2)\n",
            "Requirement already satisfied: six in /usr/local/lib/python3.7/dist-packages (from patsy>=0.5.2->statsmodels) (1.15.0)\n"
          ]
        }
      ]
    },
    {
      "cell_type": "code",
      "source": [
        "from google.colab import drive\n",
        "drive.mount('/content/drive', force_remount=True)"
      ],
      "metadata": {
        "colab": {
          "base_uri": "https://localhost:8080/"
        },
        "id": "pESQXm63bqZg",
        "outputId": "96f21e36-2eb7-49e1-aa64-c0a483cf2638"
      },
      "execution_count": null,
      "outputs": [
        {
          "output_type": "stream",
          "name": "stdout",
          "text": [
            "Mounted at /content/drive\n"
          ]
        }
      ]
    },
    {
      "cell_type": "code",
      "execution_count": null,
      "metadata": {
        "colab": {
          "base_uri": "https://localhost:8080/"
        },
        "id": "Kakc2RrxXESo",
        "outputId": "62d0f450-9188-4231-be43-f5b531f2280e"
      },
      "outputs": [
        {
          "output_type": "stream",
          "name": "stdout",
          "text": [
            "AutoReg Model Test MAE: 1.428945473869008\n",
            "Forecast:\n",
            "2021-07-31    1175.2\n",
            "2021-08-31    1177.9\n",
            "2021-09-30    1180.9\n",
            "2021-10-31    1181.8\n",
            "2021-11-30    1180.9\n",
            "2021-12-31    1181.0\n",
            "2022-01-31    1178.7\n",
            "2022-02-28    1177.9\n",
            "2022-03-31    1176.4\n",
            "2022-04-30    1175.8\n",
            "2022-05-31    1172.5\n",
            "2022-06-30    1169.6\n",
            "2022-07-31    1166.2\n",
            "2022-08-31    1165.1\n",
            "2022-09-30    1164.1\n",
            "2022-10-31    1164.3\n",
            "2022-11-30    1163.3\n",
            "2022-12-31    1162.9\n",
            "Freq: M, dtype: float64\n"
          ]
        }
      ],
      "source": [
        "import pandas as pd\n",
        "import numpy as np\n",
        "\n",
        "from scipy.stats import boxcox\n",
        "from scipy.stats import yeojohnson\n",
        "\n",
        "from statsmodels.tsa.ar_model import AutoReg\n",
        "from sklearn.metrics import mean_absolute_error\n",
        "\n",
        "import warnings\n",
        "warnings.filterwarnings(\"ignore\")\n",
        "\n",
        "\n",
        "features = ['Date', 'Water']\n",
        "start_index = pd.to_datetime(\"2021-07-01\")\n",
        "end_index = pd.to_datetime(\"2022-12-31\")\n",
        "\n",
        "\n",
        "def prepare_data(file_path):\n",
        "    data = pd.read_csv(file_path)\n",
        "    \n",
        "    # select feature\n",
        "    data_1 = data[features]\n",
        "    data_1['Date'] = pd.to_datetime(data_1['Date'])\n",
        "    \n",
        "    # resample dataframe monthly\n",
        "    data_resampled = (data_1.set_index('Date')).resample('M', convention = 'end').mean().bfill(axis = 0)\n",
        "    \n",
        "    # create Water series\n",
        "    water_data = pd.DataFrame(data_resampled['Water'], index = data_resampled.index)\n",
        "    \n",
        "    # Square root transform Water Series\n",
        "    transformed_water, lam = yeojohnson(water_data['Water'])\n",
        "    \n",
        "    # Create Series y for modelling\n",
        "    y = pd.Series(transformed_water, index = water_data.index)\n",
        "    return lam, y\n",
        "\n",
        "\n",
        "def split_series(y):\n",
        "    cutoff_test = int(len(y) * 0.85)\n",
        "    \n",
        "    y_train = y.iloc[:cutoff_test]\n",
        "    y_test = y.iloc[cutoff_test:]\n",
        "\n",
        "    return y_train, y_test\n",
        "\n",
        "\n",
        "def apply_model(y_train, y_test):\n",
        "    model = AutoReg(y_train, lags = 59, old_names = False).fit()\n",
        "    \n",
        "    # Generate out-sample predictions\n",
        "    y_pred_test = model.predict(y_test.index.min(), y_test.index.max())\n",
        "                                \n",
        "    # print test MAE\n",
        "    print(f\"AutoReg Model Test MAE: {mean_absolute_error(y_test, y_pred_test)}\")\n",
        "    \n",
        "    return model\n",
        "\n",
        "\n",
        "def evaluate_for_submission(model, lam):\n",
        "    # forecast Water values for the rest for the rest of 2021 and 2022\n",
        "    forecast = model.predict(start = start_index, end = end_index)\n",
        "    \n",
        "    # transformed Water values for next months\n",
        "    forecast_trans = round(np.exp(np.log(lam * forecast + 1) / lam), 1)\n",
        "    print(f\"Forecast:\\n{forecast_trans}\")\n",
        "    return forecast_trans\n",
        "\n",
        "\n",
        "def write_prediction_data(forecast_trans):\n",
        "    \n",
        "    predictions = pd.DataFrame(forecast_trans)\n",
        "    predictions.reset_index(inplace = True)\n",
        "    predictions.rename(columns = {predictions.columns[0]: 'Date', predictions.columns[1]: 'Water'}, inplace = True)\n",
        "\n",
        "    predictions.to_csv('drive/MyDrive/Tech Pet/Data/PredictionFile.csv', index=False)\n",
        "   \n",
        "    \n",
        "\n",
        "def __main__():\n",
        "    lam, y = prepare_data('drive/MyDrive/Tech Pet/Data/data_cleaned.csv')\n",
        "    y_train, y_test = split_series(y)\n",
        "    model = apply_model(y_train, y_test)\n",
        "    forecast = evaluate_for_submission(model, lam)\n",
        "    write_prediction_data(forecast)\n",
        "\n",
        "\n",
        "__main__()"
      ]
    },
    {
      "cell_type": "code",
      "source": [
        "import pandas as pd\n",
        "import numpy as np\n",
        "\n",
        "from scipy.stats import boxcox\n",
        "\n",
        "from statsmodels.tsa.ar_model import AutoReg\n",
        "from sklearn.metrics import mean_absolute_error\n",
        "\n",
        "import warnings\n",
        "warnings.filterwarnings(\"ignore\")\n",
        "\n",
        "\n",
        "features = ['Date', 'Gas']\n",
        "start_index = pd.to_datetime(\"2021-07-01\")\n",
        "end_index = pd.to_datetime(\"2022-12-31\")\n",
        "\n",
        "\n",
        "def prepare_data(file_path):\n",
        "    data = pd.read_csv(file_path)\n",
        "    \n",
        "    # select feature\n",
        "    data_1 = data[features]\n",
        "    data_1['Date'] = pd.to_datetime(data_1['Date'])\n",
        "    \n",
        "    # resample dataframe monthly\n",
        "    data_resampled = (data_1.set_index('Date')).resample('M', convention = 'end').mean().bfill(axis = 0)\n",
        "    \n",
        "    # create Gas series\n",
        "    Gas_data = pd.DataFrame(data_resampled['Gas'], index = data_resampled.index)\n",
        "    \n",
        "    # Square root transform Gas Series\n",
        "    transformed_gas, lam = boxcox(Gas_data['Gas'])\n",
        "    \n",
        "    # Create Series y for modelling\n",
        "    y = pd.Series(transformed_gas, index = Gas_data.index)\n",
        "    return lam, y\n",
        "\n",
        "\n",
        "def split_series(y):\n",
        "    cutoff_test = int(len(y) * 0.85)\n",
        "    \n",
        "    y_train = y.iloc[:cutoff_test]\n",
        "    y_test = y.iloc[cutoff_test:]\n",
        "\n",
        "    return y_train, y_test\n",
        "\n",
        "\n",
        "def apply_model(y_train, y_test):\n",
        "    model = AutoReg(y_train, lags = 59, old_names = False).fit()\n",
        "    \n",
        "    # Generate out-sample predictions\n",
        "    y_pred_test = model.predict(y_test.index.min(), y_test.index.max())\n",
        "                                \n",
        "    # print test MAE\n",
        "    print(f\"AutoReg Model Test MAE: {mean_absolute_error(y_test, y_pred_test)}\")\n",
        "    \n",
        "    return model\n",
        "\n",
        "\n",
        "def evaluate_for_submission(model, lam):\n",
        "    # forecast Gas values for the rest for the rest of 2021 and 2022\n",
        "    forecast = model.predict(start = start_index, end = end_index)\n",
        "    \n",
        "    # transformed Gas values for next months\n",
        "    forecast_trans = round(np.exp(np.log(lam * forecast + 1) / lam), 1)\n",
        "    print(f\"Forecast:\\n{forecast_trans}\")\n",
        "    return forecast_trans\n",
        "\n",
        "\n",
        "def write_prediction_data(forecast_trans):\n",
        "    \n",
        "    predictions = pd.DataFrame(forecast_trans)\n",
        "    predictions.reset_index(inplace = True)\n",
        "    predictions.rename(columns = {predictions.columns[0]: 'Date', predictions.columns[1]: 'Gas'}, inplace = True)\n",
        "\n",
        "    predictions.to_csv('drive/MyDrive/TechPet/Project 1/PredictionFile.csv', index=False)\n",
        "   \n",
        "    \n",
        "\n",
        "def __main__():\n",
        "    lam, y = prepare_data('drive/MyDrive/TechPet/Project 1/data_cleaned.csv')\n",
        "    y_train, y_test = split_series(y)\n",
        "    model = apply_model(y_train, y_test)\n",
        "    forecast = evaluate_for_submission(model, lam)\n",
        "    write_prediction_data(forecast)\n",
        "\n",
        "\n",
        "__main__()"
      ],
      "metadata": {
        "id": "PwZpDobOlza0"
      },
      "execution_count": null,
      "outputs": []
    }
  ]
}